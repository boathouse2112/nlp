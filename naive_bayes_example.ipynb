{
 "cells": [
  {
   "cell_type": "markdown",
   "metadata": {},
   "source": [
    "# Naive Bayes Worked Example\n",
    "From Jurafsky 3rd edition"
   ]
  },
  {
   "cell_type": "code",
   "execution_count": 8,
   "metadata": {},
   "outputs": [],
   "source": [
    "from collections import Counter\n",
    "import itertools"
   ]
  },
  {
   "cell_type": "markdown",
   "metadata": {},
   "source": [
    "Sentiment classification -- positive or negative.\n",
    "\n",
    " We've got a set of annotated training data."
   ]
  },
  {
   "cell_type": "code",
   "execution_count": 3,
   "metadata": {},
   "outputs": [],
   "source": [
    "training_data = [\n",
    "    (\"negative\", \"just plain boring\"),\n",
    "    (\"negative\", \"entirely predictable and lacks energy\"),\n",
    "    (\"negative\", \"no surprises and very few laughs\"),\n",
    "    (\"positive\", \"very powerful\"),\n",
    "    (\"positive\", \"the most fun film of the summer\")\n",
    "]"
   ]
  },
  {
   "attachments": {},
   "cell_type": "markdown",
   "metadata": {},
   "source": [
    "Log prior probability of each class is $\\log\\hat{P}(c)=\\log\\frac{N_c}{N_{doc}}$"
   ]
  },
  {
   "cell_type": "code",
   "execution_count": 4,
   "metadata": {},
   "outputs": [
    {
     "data": {
      "text/plain": [
       "{'negative': 0.6, 'positive': 0.4}"
      ]
     },
     "execution_count": 4,
     "metadata": {},
     "output_type": "execute_result"
    }
   ],
   "source": [
    "classes = set([c for (c, d) in training_data])\n",
    "\n",
    "p_prior = dict()\n",
    "for current_class in classes:\n",
    "    n_c = len([None for (c, d) in training_data if c == current_class])\n",
    "    n_doc = len(training_data)\n",
    "    p_prior[current_class] = n_c / n_doc\n",
    "p_prior"
   ]
  },
  {
   "attachments": {},
   "cell_type": "markdown",
   "metadata": {},
   "source": [
    "$\\log\\hat{P}(w_i|c) = \\log\\frac{ count(w_i, c) + 1 }{ \\sum_{w \\in V}{count(w, c) + 1} }$"
   ]
  },
  {
   "cell_type": "code",
   "execution_count": 5,
   "metadata": {},
   "outputs": [],
   "source": [
    "big_doc = \" \".join([d for (c, d) in training_data])\n",
    "\n",
    "big_doc_by_class = dict()\n",
    "for current_class in classes:\n",
    "    big_doc_by_class[current_class] = \" \".join([d for (c, d) in training_data if c == current_class])\n",
    "\n",
    "bag_of_words = Counter(big_doc.split(\" \"))\n",
    "bag_of_words_by_class = {c: Counter(d.split(\" \")) for (c, d) in big_doc_by_class.items()}\n",
    "\n",
    "likelihood = dict()\n",
    "for current_class in classes:\n",
    "    laplace_word_counts = dict()\n",
    "    for word in bag_of_words:\n",
    "        if word in bag_of_words_by_class[current_class].keys():\n",
    "            laplace_word_counts[word] = bag_of_words_by_class[current_class][word] + 1\n",
    "        else:\n",
    "            laplace_word_counts[word] = 1\n",
    "\n",
    "    laplace_word_sum = sum(laplace_word_counts.values())\n",
    "    likelihood[current_class] = {word: count / laplace_word_sum for (word, count) in laplace_word_counts.items()}"
   ]
  },
  {
   "attachments": {},
   "cell_type": "markdown",
   "metadata": {},
   "source": [
    "# Binary Naive Bayes\n",
    "\n",
    "*Within* each document, remove all duplicate words before concatenating into big_doc"
   ]
  },
  {
   "cell_type": "code",
   "execution_count": 12,
   "metadata": {},
   "outputs": [],
   "source": [
    "training_data_binary = [(c, list(set(d.split(\" \")))) for (c, d) in training_data]\n",
    "training_data_binary\n",
    "binary_bag_of_words_by_class = dict()\n",
    "\n",
    "for current_class in classes:\n",
    "    binary_bag_of_words_by_class[current_class] = Counter(itertools.chain(*[d for (c, d) in training_data_binary if c == current_class]))\n"
   ]
  }
 ],
 "metadata": {
  "kernelspec": {
   "display_name": "nlp",
   "language": "python",
   "name": "python3"
  },
  "language_info": {
   "codemirror_mode": {
    "name": "ipython",
    "version": 3
   },
   "file_extension": ".py",
   "mimetype": "text/x-python",
   "name": "python",
   "nbconvert_exporter": "python",
   "pygments_lexer": "ipython3",
   "version": "3.11.0 (main, Dec 21 2022, 12:57:37) [Clang 14.0.0 (clang-1400.0.29.102)]"
  },
  "orig_nbformat": 4,
  "vscode": {
   "interpreter": {
    "hash": "3b65b468376921fd587bcfcb58826b35c55c2851a3c76329f4079042fb37a8a1"
   }
  }
 },
 "nbformat": 4,
 "nbformat_minor": 2
}
