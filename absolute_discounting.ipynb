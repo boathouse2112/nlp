{
 "cells": [
  {
   "cell_type": "markdown",
   "metadata": {},
   "source": [
    "# Absolute Discounting Probability Mass"
   ]
  },
  {
   "cell_type": "code",
   "execution_count": 1,
   "metadata": {},
   "outputs": [],
   "source": [
    "import matplotlib.pyplot as plt\n",
    "from absolute_discounting import *"
   ]
  },
  {
   "cell_type": "code",
   "execution_count": 11,
   "metadata": {},
   "outputs": [],
   "source": [
    "words = tokenize(EXAMPLE_TEXT, 3)\n",
    "unigram_counts = count_ngrams(words, 1)\n",
    "bigram_counts = count_ngrams(words, 2)\n",
    "trigram_counts = count_ngrams(words, 3)"
   ]
  },
  {
   "attachments": {},
   "cell_type": "markdown",
   "metadata": {},
   "source": [
    "# Maximum Likelihood Estimation\n",
    "$p(w_i | w_{i-2}, w_{i-1}) = \\frac{c(w_{i-2}, w_{i-1}, w_i)}{\\sum_{w}c(w_{i-2}, w_{i-1}, w)}$\n",
    "\n",
    "In words:\n",
    "\n",
    "$p(\\text{some NGram } (abc)) = \\frac{\\text{count of } (abc)}{\\sum{\\text{count of each trigram } (***)}}$\n",
    "\n",
    "Since MLE uses only the highest-order NGram (in this example, trigrams), the probability of those trigrams should sum to 1"
   ]
  },
  {
   "cell_type": "code",
   "execution_count": 3,
   "metadata": {},
   "outputs": [],
   "source": [
    "def p_mle(target_ngram, ngram_counts):\n",
    "    target_count = ngram_counts[target_ngram]\n",
    "    sum_ngram_counts = sum(ngram_counts.values())\n",
    "    return target_count / sum_ngram_counts"
   ]
  },
  {
   "attachments": {},
   "cell_type": "markdown",
   "metadata": {},
   "source": [
    "Probability of a single trigram:"
   ]
  },
  {
   "cell_type": "code",
   "execution_count": 4,
   "metadata": {},
   "outputs": [
    {
     "data": {
      "text/plain": [
       "0.023952095808383235"
      ]
     },
     "execution_count": 4,
     "metadata": {},
     "output_type": "execute_result"
    }
   ],
   "source": [
    "p_mle((\"a\", \"paragraph\", \"is\"), trigram_counts)"
   ]
  },
  {
   "attachments": {},
   "cell_type": "markdown",
   "metadata": {},
   "source": [
    "Sum of probabilities of all trigrams:"
   ]
  },
  {
   "cell_type": "code",
   "execution_count": 5,
   "metadata": {},
   "outputs": [
    {
     "data": {
      "text/plain": [
       "1.0"
      ]
     },
     "execution_count": 5,
     "metadata": {},
     "output_type": "execute_result"
    }
   ],
   "source": [
    "trigrams = trigram_counts.keys()\n",
    "sum_trigram_probabilities = round(sum([p_mle(trigram, trigram_counts) for trigram in trigrams]), 3)\n",
    "sum_trigram_probabilities"
   ]
  },
  {
   "attachments": {},
   "cell_type": "markdown",
   "metadata": {},
   "source": [
    "The whole probability space is filled by the highest-order (trigram) estimation:"
   ]
  },
  {
   "cell_type": "code",
   "execution_count": 6,
   "metadata": {},
   "outputs": [
    {
     "data": {
      "text/plain": [
       "[]"
      ]
     },
     "execution_count": 6,
     "metadata": {},
     "output_type": "execute_result"
    },
    {
     "data": {
      "image/png": "[encoded data removed]",
      "text/plain": [
       "<Figure size 640x480 with 1 Axes>"
      ]
     },
     "metadata": {},
     "output_type": "display_data"
    }
   ],
   "source": [
    "labels = [\"MLE\"]\n",
    "probability_mass = [sum_trigram_probabilities]\n",
    "\n",
    "fig, ax = plt.subplots()\n",
    "ax.bar(labels, probability_mass)\n",
    "ax.plot()"
   ]
  },
  {
   "attachments": {},
   "cell_type": "markdown",
   "metadata": {},
   "source": [
    "# Absolute Discounting\n",
    "\n",
    "$p_{ABS}(w_i|w^{i-1}_{i-N+1}) = \\frac{max\\{c(w^{i}_{i-N+1}) - D, 0\\}}{\\sum_{w_i}{c(w^i_{i-N+1})}} + \\lambda(w^{i-1}_{i-N+1}) \\; p_{ABS}(w_i|w^{i-1}_{i-N+2})$\n",
    "\n",
    "<sub>$D$ is a constant, pre-selected discount value</sub>\n",
    "\n",
    "<sub>$N$ is the order of the NGram (for a trigram, N=3)</sub>\n",
    "\n",
    "In words:\n",
    "\n",
    "$p_{ABS}(\\text{some NGram } (abc)) = \\frac{max\\{ (\\text{count of }(abc) - \\text{discount}), 0 \\} }{\\sum{\\text{count of each NGram } (***)}} + (\\text{lambda function of history } (ab)) * (p_{ABS}(\\text{next-order NGram}))$\n",
    "\n",
    "$\\lambda$ is a function that assigns weight to the lower-order NGrams.\n",
    "\n",
    "It's not clear to me that $\\lambda$ is actually a function of the history.\n"
   ]
  },
  {
   "cell_type": "markdown",
   "metadata": {},
   "source": [
    "Highest-order portion of $p_{ABS}$:"
   ]
  },
  {
   "cell_type": "code",
   "execution_count": 7,
   "metadata": {},
   "outputs": [],
   "source": [
    "ABSOLUTE_DISCOUNT = 0.5\n",
    "\n",
    "def p_abs_highest_order(target_ngram, ngram_counts):\n",
    "    target_count = ngram_counts[target_ngram]\n",
    "    discounted_target_count = target_count - ABSOLUTE_DISCOUNT\n",
    "    discounted_target_count = max(discounted_target_count, 0)\n",
    "\n",
    "    sum_ngram_counts = sum(ngram_counts.values())\n",
    "    return discounted_target_count / sum_ngram_counts"
   ]
  },
  {
   "cell_type": "markdown",
   "metadata": {},
   "source": [
    "Probability of a single trigram:"
   ]
  },
  {
   "cell_type": "code",
   "execution_count": 8,
   "metadata": {},
   "outputs": [
    {
     "data": {
      "text/plain": [
       "0.020958083832335328"
      ]
     },
     "execution_count": 8,
     "metadata": {},
     "output_type": "execute_result"
    }
   ],
   "source": [
    "p_abs_highest_order((\"a\", \"paragraph\", \"is\"), trigram_counts)"
   ]
  },
  {
   "cell_type": "markdown",
   "metadata": {},
   "source": [
    "Sum of probabilities of all trigrams:"
   ]
  },
  {
   "cell_type": "code",
   "execution_count": 9,
   "metadata": {},
   "outputs": [
    {
     "data": {
      "text/plain": [
       "0.566"
      ]
     },
     "execution_count": 9,
     "metadata": {},
     "output_type": "execute_result"
    }
   ],
   "source": [
    "trigrams = trigram_counts.keys()\n",
    "sum_trigram_probabilities = round(sum([p_abs_highest_order(trigram, trigram_counts) for trigram in trigrams]), 3)\n",
    "sum_trigram_probabilities"
   ]
  },
  {
   "attachments": {},
   "cell_type": "markdown",
   "metadata": {},
   "source": [
    "So almost half our probability mass is reserved for the lower-order NGrams."
   ]
  },
  {
   "cell_type": "code",
   "execution_count": 13,
   "metadata": {},
   "outputs": [
    {
     "name": "stdout",
     "output_type": "stream",
     "text": [
      "bigram mass 0.613\n",
      "unigram mass 0.769\n"
     ]
    }
   ],
   "source": [
    "bigrams = bigram_counts.keys()\n",
    "sum_bigram_probabilities = round(sum([p_abs_highest_order(bigram, bigram_counts) for bigram in bigrams]), 3)\n",
    "\n",
    "unigrams = unigram_counts.keys()\n",
    "sum_unigram_probabilities = round(sum([p_abs_highest_order(unigram, unigram_counts) for unigram in unigrams]), 3)\n",
    "\n",
    "print(\"bigram mass\", sum_bigram_probabilities)\n",
    "print(\"unigram mass\", sum_unigram_probabilities)"
   ]
  },
  {
   "attachments": {},
   "cell_type": "markdown",
   "metadata": {},
   "source": [
    "And we have to squash these probability sums into the area we have left. That's what $\\lambda$ is for."
   ]
  }
 ],
 "metadata": {
  "kernelspec": {
   "display_name": "nlp",
   "language": "python",
   "name": "python3"
  },
  "language_info": {
   "codemirror_mode": {
    "name": "ipython",
    "version": 3
   },
   "file_extension": ".py",
   "mimetype": "text/x-python",
   "name": "python",
   "nbconvert_exporter": "python",
   "pygments_lexer": "ipython3",
   "version": "3.11.0"
  },
  "orig_nbformat": 4,
  "vscode": {
   "interpreter": {
    "hash": "3b65b468376921fd587bcfcb58826b35c55c2851a3c76329f4079042fb37a8a1"
   }
  }
 },
 "nbformat": 4,
 "nbformat_minor": 2
}
